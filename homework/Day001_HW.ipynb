#!/usr/bin/env python3
# -*- coding: utf-8 -*-
"""
Created on Sun Feb 23 15:41:44 2020

@author: iris
"""
import os
from urllib.request import urlretrieve

# 下載指定檔案到 Data 資料夾，存成檔名 Homework.txt
fullfilename = os.path.join("./Data", "homework.txt")
urlretrieve ("https://www.w3.org/TR/PNG/iso_8859-1.txt", fullfilename)


# 檢查 Data 資料夾是否有 Homework.txt 檔名之檔案
dirs = os.listdir( './Data' )
files = []

for file in dirs:
    files.append(file)
   

if 'homework.txt' in files:
    print('[O] ata 資料夾有 Homework.txt')
else:
    print('[X] Data 資料夾沒有 Homework.txt')
    
# 將「Hello World」字串覆寫到 Homework.txt 檔案
with open(fullfilename, "w") as ff:
    ff.write("Hello World\n")
    
# 檢查 Homework.txt 檔案字數是否符合 Hello World 字數
compare_str="Hello World\n"
with open(fullfilename, "r") as fr:
    file_contents = fr.read()    
    if len(file_contents) == len(compare_str):
        print("str len match")
    else:
        print("str len not match")
        
    