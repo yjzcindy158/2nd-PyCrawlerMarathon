#!/usr/bin/env python3
# -*- coding: utf-8 -*-
"""
Created on Sun Feb 23 22:40:50 2020

@author: iris
"""

import os, sys
import urllib.request
import csv
import pandas as pd
from datetime import datetime, date


res = "http://opendata.hccg.gov.tw/dataset/432257df-491f-4875-8b56-dd814aee5d7b/resource/de014c8b-9b75-4152-9fc6-f0d499cefbe4/download/20150305140446074.csv"
urllib.request.urlretrieve(res, './data/example.csv')

dirs = os.listdir( './data' )
i=0
j=0

with open('./data/example.csv', newline='') as csvfile:
    
    rows = csv.DictReader(csvfile)

    
    for row in rows:
        if i==0:
            
            #k=3
            #print(type(stop))
            #for k in range(11):
                #stop = '班次'+ str(1)
            #print(row['班次1'],row['班次2'],row['班次3'],row['班次4'],row['班次5'],row['班次6'],row['班次7'],row['班次8'],row['班次9'],row['班次10'],row['班次11'])
            A1 = [row['班次1'],row['班次2'],row['班次3'],row['班次4'],row['班次5'],row['班次6'],row['班次7'],row['班次8'],row['班次9'],row['班次10'],row['班次11']]
            print(A1)
            i = i+1
            
            
        if i<6:
            
            #k=3
            #print(type(stop))
            #for k in range(11):
                #stop = '班次'+ str(1)
            print(row['班次1'],row['班次2'],row['班次3'],row['班次4'],row['班次5'],row['班次6'],row['班次7'],row['班次8'],row['班次9'],row['班次10'],row['班次11'])
            A2 = [row['班次1'],row['班次2'],row['班次3'],row['班次4'],row['班次5'],row['班次6'],row['班次7'],row['班次8'],row['班次9'],row['班次10'],row['班次11']]
            #print(AA)
            i = i+1
           
        
                       
            


        