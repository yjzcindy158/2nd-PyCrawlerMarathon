#!/usr/bin/env python3
# -*- coding: utf-8 -*-

"""
Created on Sun Feb 23 22:40:50 2020

@author: iris
"""

import os, sys
import urllib.request
import csv
import pandas as pd
from datetime import datetime, date


res = "http://opendata.hccg.gov.tw/dataset/432257df-491f-4875-8b56-dd814aee5d7b/resource/de014c8b-9b75-4152-9fc6-f0d499cefbe4/download/20150305140446074.csv"
urllib.request.urlretrieve(res, './data/example.csv')

dirs = os.listdir( './data' )


# 1. 取出班次一的每一個時間

with open('./data/example.csv', newline='') as csvfile:
    rows = csv.reader(csvfile)
    
    for row in rows:
        print(row[5])       
            


# 2. 將班次一的每一個時間用一種資料型態保存        
new=[]        
with open('./data/example.csv', newline='') as csvfile:
    rows = csv.reader(csvfile)
    
    for row in rows:
        new.append(row[5]) 
print(new)


# 3. 將班次一到五與其所有時間用一種資料型態個別保存

new1=[] 
new2=[]  
new3=[]  
new4=[]  
new5=[]   
data={}   
with open('./data/example.csv', newline='') as csvfile:
    rows = csv.reader(csvfile)
    
    for row in rows:
        new1.append(row[5]) 
        new2.append(row[6]) 
        new3.append(row[7]) 
        new4.append(row[8]) 
        new5.append(row[9]) 
        
data[new1[0]]=new1[1:]
data[new2[0]]=new2[1:]
data[new3[0]]=new3[1:]
data[new4[0]]=new4[1:]
data[new5[0]]=new5[1:]



print(data)

